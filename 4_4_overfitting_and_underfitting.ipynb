{
  "nbformat": 4,
  "nbformat_minor": 0,
  "metadata": {
    "colab": {
      "name": "4.4-overfitting-and-underfitting.ipynb",
      "version": "0.3.2",
      "provenance": [],
      "collapsed_sections": []
    },
    "kernelspec": {
      "display_name": "Python 3",
      "language": "python",
      "name": "python3"
    }
  },
  "cells": [
    {
      "cell_type": "markdown",
      "metadata": {
        "id": "view-in-github",
        "colab_type": "text"
      },
      "source": [
        "[View in Colaboratory](https://colab.research.google.com/github/alzayats/ImageAI/blob/master/4_4_overfitting_and_underfitting.ipynb)"
      ]
    },
    {
      "metadata": {
        "id": "WyDAv5jrRbNc",
        "colab_type": "code",
        "colab": {
          "base_uri": "https://localhost:8080/",
          "height": 34
        },
        "outputId": "ba0c0bd5-4ac9-488e-8ba3-c3d53a17fae2"
      },
      "cell_type": "code",
      "source": [
        "import keras\n",
        "keras.__version__"
      ],
      "execution_count": 19,
      "outputs": [
        {
          "output_type": "execute_result",
          "data": {
            "text/plain": [
              "'2.1.6'"
            ]
          },
          "metadata": {
            "tags": []
          },
          "execution_count": 19
        }
      ]
    },
    {
      "metadata": {
        "id": "Now_YoBzRbNu",
        "colab_type": "text"
      },
      "cell_type": "markdown",
      "source": [
        "# Overfitting and underfitting\n",
        "\n",
        "This notebook contains the code samples found in Chapter 3, Section 6 of [Deep Learning with Python](https://www.manning.com/books/deep-learning-with-python?a_aid=keras&a_bid=76564dff). Note that the original text features far more content, in particular further explanations and figures: in this notebook, you will only find source code and related comments.\n",
        "\n",
        "----\n",
        "\n",
        "\n",
        "In all the examples we saw in the previous chapter -- movie review sentiment prediction, topic classification, and house price regression -- \n",
        "we could notice that the performance of our model on the held-out validation data would always peak after a few epochs and would then start \n",
        "degrading, i.e. our model would quickly start to _overfit_ to the training data. Overfitting happens in every single machine learning \n",
        "problem. Learning how to deal with overfitting is essential to mastering machine learning.\n",
        "\n",
        "The fundamental issue in machine learning is the tension between optimization and generalization. \"Optimization\" refers to the process of \n",
        "adjusting a model to get the best performance possible on the training data (the \"learning\" in \"machine learning\"), while \"generalization\" \n",
        "refers to how well the trained model would perform on data it has never seen before. The goal of the game is to get good generalization, of \n",
        "course, but you do not control generalization; you can only adjust the model based on its training data.\n",
        "\n",
        "At the beginning of training, optimization and generalization are correlated: the lower your loss on training data, the lower your loss on \n",
        "test data. While this is happening, your model is said to be _under-fit_: there is still progress to be made; the network hasn't yet \n",
        "modeled all relevant patterns in the training data. But after a certain number of iterations on the training data, generalization stops \n",
        "improving, validation metrics stall then start degrading: the model is then starting to over-fit, i.e. is it starting to learn patterns \n",
        "that are specific to the training data but that are misleading or irrelevant when it comes to new data.\n",
        "\n",
        "To prevent a model from learning misleading or irrelevant patterns found in the training data, _the best solution is of course to get \n",
        "more training data_. A model trained on more data will naturally generalize better. When that is no longer possible, the next best solution \n",
        "is to modulate the quantity of information that your model is allowed to store, or to add constraints on what information it is allowed to \n",
        "store. If a network can only afford to memorize a small number of patterns, the optimization process will force it to focus on the most \n",
        "prominent patterns, which have a better chance of generalizing well.\n",
        "\n",
        "The processing of fighting overfitting in this way is called _regularization_. Let's review some of the most common regularization \n",
        "techniques, and let's apply them in practice to improve our movie classification model from  the previous chapter."
      ]
    },
    {
      "metadata": {
        "id": "wih8BZHQRbNy",
        "colab_type": "text"
      },
      "cell_type": "markdown",
      "source": [
        "Note: in this notebook we will be using the IMDB test set as our validation set. It doesn't matter in this context.\n",
        "\n",
        "Let's prepare the data using the code from Chapter 3, Section 5:"
      ]
    },
    {
      "metadata": {
        "id": "Uhat65vqRbN0",
        "colab_type": "code",
        "colab": {}
      },
      "cell_type": "code",
      "source": [
        "from keras.datasets import imdb\n",
        "import numpy as np\n",
        "\n",
        "(train_data, train_labels), (test_data, test_labels) = imdb.load_data(num_words=10000)\n",
        "\n",
        "def vectorize_sequences(sequences, dimension=10000):\n",
        "    # Create an all-zero matrix of shape (len(sequences), dimension)\n",
        "    results = np.zeros((len(sequences), dimension))\n",
        "    for i, sequence in enumerate(sequences):\n",
        "        results[i, sequence] = 1.  # set specific indices of results[i] to 1s\n",
        "    return results\n",
        "\n",
        "# Our vectorized training data\n",
        "x_train = vectorize_sequences(train_data)\n",
        "# Our vectorized test data\n",
        "x_test = vectorize_sequences(test_data)\n",
        "# Our vectorized labels\n",
        "y_train = np.asarray(train_labels).astype('float32')\n",
        "y_test = np.asarray(test_labels).astype('float32')"
      ],
      "execution_count": 0,
      "outputs": []
    },
    {
      "metadata": {
        "id": "4Q27fYRSRbOA",
        "colab_type": "text"
      },
      "cell_type": "markdown",
      "source": [
        "# Fighting overfitting\n",
        "\n",
        "## Reducing the network's size\n",
        "\n",
        "\n",
        "The simplest way to prevent overfitting is to reduce the size of the model, i.e. the number of learnable parameters in the model (which is \n",
        "determined by the number of layers and the number of units per layer). In deep learning, the number of learnable parameters in a model is \n",
        "often referred to as the model's \"capacity\". Intuitively, a model with more parameters will have more \"memorization capacity\" and therefore \n",
        "will be able to easily learn a perfect dictionary-like mapping between training samples and their targets, a mapping without any \n",
        "generalization power. For instance, a model with 500,000 binary parameters could easily be made to learn the class of every digits in the \n",
        "MNIST training set: we would only need 10 binary parameters for each of the 50,000 digits. Such a model would be useless for classifying \n",
        "new digit samples. Always keep this in mind: deep learning models tend to be good at fitting to the training data, but the real challenge \n",
        "is generalization, not fitting.\n",
        "\n",
        "On the other hand, if the network has limited memorization resources, it will not be able to learn this mapping as easily, and thus, in \n",
        "order to minimize its loss, it will have to resort to learning compressed representations that have predictive power regarding the targets \n",
        "-- precisely the type of representations that we are interested in. At the same time, keep in mind that you should be using models that have \n",
        "enough parameters that they won't be underfitting: your model shouldn't be starved for memorization resources. There is a compromise to be \n",
        "found between \"too much capacity\" and \"not enough capacity\".\n",
        "\n",
        "Unfortunately, there is no magical formula to determine what the right number of layers is, or what the right size for each layer is. You \n",
        "will have to evaluate an array of different architectures (on your validation set, not on your test set, of course) in order to find the \n",
        "right model size for your data. The general workflow to find an appropriate model size is to start with relatively few layers and \n",
        "parameters, and start increasing the size of the layers or adding new layers until you see diminishing returns with regard to the \n",
        "validation loss.\n",
        "\n",
        "Let's try this on our movie review classification network. Our original network was as such:"
      ]
    },
    {
      "metadata": {
        "id": "5D8APyosRbOD",
        "colab_type": "code",
        "colab": {}
      },
      "cell_type": "code",
      "source": [
        "from keras import models\n",
        "from keras import layers\n",
        "\n",
        "original_model = models.Sequential()\n",
        "original_model.add(layers.Dense(16, activation='relu', input_shape=(10000,)))\n",
        "original_model.add(layers.Dense(16, activation='relu'))\n",
        "original_model.add(layers.Dense(1, activation='sigmoid'))\n",
        "\n",
        "original_model.compile(optimizer='rmsprop',\n",
        "                       loss='binary_crossentropy',\n",
        "                       metrics=['acc'])"
      ],
      "execution_count": 0,
      "outputs": []
    },
    {
      "metadata": {
        "id": "cPdIcC7tRbOQ",
        "colab_type": "text"
      },
      "cell_type": "markdown",
      "source": [
        "Now let's try to replace it with this smaller network:"
      ]
    },
    {
      "metadata": {
        "id": "Nd0vz-u8RbOT",
        "colab_type": "code",
        "colab": {}
      },
      "cell_type": "code",
      "source": [
        "smaller_model = models.Sequential()\n",
        "smaller_model.add(layers.Dense(4, activation='relu', input_shape=(10000,)))\n",
        "smaller_model.add(layers.Dense(4, activation='relu'))\n",
        "smaller_model.add(layers.Dense(1, activation='sigmoid'))\n",
        "\n",
        "smaller_model.compile(optimizer='rmsprop',\n",
        "                      loss='binary_crossentropy',\n",
        "                      metrics=['acc'])"
      ],
      "execution_count": 0,
      "outputs": []
    },
    {
      "metadata": {
        "id": "AfwJB9UjRbOe",
        "colab_type": "text"
      },
      "cell_type": "markdown",
      "source": [
        "\n",
        "Here's a comparison of the validation losses of the original network and the smaller network. The dots are the validation loss values of \n",
        "the smaller network, and the crosses are the initial network (remember: a lower validation loss signals a better model)."
      ]
    },
    {
      "metadata": {
        "id": "6YLWzO96RbOl",
        "colab_type": "code",
        "colab": {
          "base_uri": "https://localhost:8080/",
          "height": 734
        },
        "outputId": "ab38f209-094e-4ddd-9a23-7e7254c1c4d2"
      },
      "cell_type": "code",
      "source": [
        "original_hist = original_model.fit(x_train, y_train,\n",
        "                                   epochs=20,\n",
        "                                   batch_size=512,\n",
        "                                   validation_data=(x_test, y_test))"
      ],
      "execution_count": 23,
      "outputs": [
        {
          "output_type": "stream",
          "text": [
            "Train on 25000 samples, validate on 25000 samples\n",
            "Epoch 1/20\n",
            "25000/25000 [==============================] - 4s 149us/step - loss: 0.4434 - acc: 0.8239 - val_loss: 0.3292 - val_acc: 0.8838\n",
            "Epoch 2/20\n",
            "25000/25000 [==============================] - 3s 128us/step - loss: 0.2577 - acc: 0.9082 - val_loss: 0.2860 - val_acc: 0.8884\n",
            "Epoch 3/20\n",
            "25000/25000 [==============================] - 3s 128us/step - loss: 0.1992 - acc: 0.9295 - val_loss: 0.2823 - val_acc: 0.8887\n",
            "Epoch 4/20\n",
            "25000/25000 [==============================] - 3s 128us/step - loss: 0.1668 - acc: 0.9412 - val_loss: 0.2938 - val_acc: 0.8849\n",
            "Epoch 5/20\n",
            "25000/25000 [==============================] - 3s 129us/step - loss: 0.1438 - acc: 0.9501 - val_loss: 0.3112 - val_acc: 0.8807\n",
            "Epoch 6/20\n",
            "25000/25000 [==============================] - 3s 128us/step - loss: 0.1261 - acc: 0.9553 - val_loss: 0.3489 - val_acc: 0.8716\n",
            "Epoch 7/20\n",
            "25000/25000 [==============================] - 3s 127us/step - loss: 0.1111 - acc: 0.9616 - val_loss: 0.3583 - val_acc: 0.8724\n"
          ],
          "name": "stdout"
        },
        {
          "output_type": "stream",
          "text": [
            "Epoch 8/20\n",
            "25000/25000 [==============================] - 3s 130us/step - loss: 0.0983 - acc: 0.9669 - val_loss: 0.3937 - val_acc: 0.8672\n",
            "Epoch 9/20\n",
            "25000/25000 [==============================] - 3s 129us/step - loss: 0.0851 - acc: 0.9713 - val_loss: 0.4331 - val_acc: 0.8609\n",
            "Epoch 10/20\n",
            "25000/25000 [==============================] - 3s 130us/step - loss: 0.0758 - acc: 0.9752 - val_loss: 0.4984 - val_acc: 0.8529\n",
            "Epoch 11/20\n",
            "25000/25000 [==============================] - 3s 128us/step - loss: 0.0693 - acc: 0.9776 - val_loss: 0.4807 - val_acc: 0.8604\n",
            "Epoch 12/20\n",
            "25000/25000 [==============================] - 3s 128us/step - loss: 0.0571 - acc: 0.9823 - val_loss: 0.5155 - val_acc: 0.8565\n",
            "Epoch 13/20\n",
            "25000/25000 [==============================] - 3s 129us/step - loss: 0.0516 - acc: 0.9842 - val_loss: 0.5323 - val_acc: 0.8591\n",
            "Epoch 14/20\n",
            "25000/25000 [==============================] - 3s 131us/step - loss: 0.0424 - acc: 0.9879 - val_loss: 0.6269 - val_acc: 0.8469\n",
            "Epoch 15/20\n",
            " 6656/25000 [======>.......................] - ETA: 1s - loss: 0.0281 - acc: 0.9934"
          ],
          "name": "stdout"
        },
        {
          "output_type": "stream",
          "text": [
            "25000/25000 [==============================] - 3s 128us/step - loss: 0.0371 - acc: 0.9892 - val_loss: 0.6052 - val_acc: 0.8552\n",
            "Epoch 16/20\n",
            "25000/25000 [==============================] - 3s 128us/step - loss: 0.0313 - acc: 0.9908 - val_loss: 0.6417 - val_acc: 0.8546\n",
            "Epoch 17/20\n",
            "25000/25000 [==============================] - 3s 128us/step - loss: 0.0268 - acc: 0.9930 - val_loss: 0.6859 - val_acc: 0.8521\n",
            "Epoch 18/20\n",
            "25000/25000 [==============================] - 3s 129us/step - loss: 0.0234 - acc: 0.9942 - val_loss: 0.7361 - val_acc: 0.8495\n",
            "Epoch 19/20\n",
            "25000/25000 [==============================] - 3s 128us/step - loss: 0.0168 - acc: 0.9961 - val_loss: 0.7537 - val_acc: 0.8508\n",
            "Epoch 20/20\n",
            "25000/25000 [==============================] - 3s 128us/step - loss: 0.0151 - acc: 0.9964 - val_loss: 0.8398 - val_acc: 0.8424\n"
          ],
          "name": "stdout"
        }
      ]
    },
    {
      "metadata": {
        "id": "e_RspyisRbO7",
        "colab_type": "code",
        "colab": {
          "base_uri": "https://localhost:8080/",
          "height": 734
        },
        "outputId": "396aef78-8cf4-4943-9c60-4f369e435b07"
      },
      "cell_type": "code",
      "source": [
        "smaller_model_hist = smaller_model.fit(x_train, y_train,\n",
        "                                       epochs=20,\n",
        "                                       batch_size=512,\n",
        "                                       validation_data=(x_test, y_test))"
      ],
      "execution_count": 24,
      "outputs": [
        {
          "output_type": "stream",
          "text": [
            "Train on 25000 samples, validate on 25000 samples\n",
            "Epoch 1/20\n",
            "25000/25000 [==============================] - 3s 134us/step - loss: 0.5800 - acc: 0.7025 - val_loss: 0.5303 - val_acc: 0.7586\n",
            "Epoch 2/20\n",
            "25000/25000 [==============================] - 3s 124us/step - loss: 0.4841 - acc: 0.8456 - val_loss: 0.4873 - val_acc: 0.8287\n",
            "Epoch 3/20\n",
            "25000/25000 [==============================] - 3s 123us/step - loss: 0.4387 - acc: 0.8929 - val_loss: 0.4661 - val_acc: 0.8506\n",
            "Epoch 4/20\n",
            "25000/25000 [==============================] - 3s 123us/step - loss: 0.4075 - acc: 0.9157 - val_loss: 0.4541 - val_acc: 0.8628\n",
            "Epoch 5/20\n",
            "25000/25000 [==============================] - 3s 124us/step - loss: 0.3830 - acc: 0.9310 - val_loss: 0.4501 - val_acc: 0.8639\n",
            "Epoch 6/20\n",
            "25000/25000 [==============================] - 3s 125us/step - loss: 0.3620 - acc: 0.9410 - val_loss: 0.4434 - val_acc: 0.8716\n",
            "Epoch 7/20\n",
            "25000/25000 [==============================] - 3s 123us/step - loss: 0.3427 - acc: 0.9513 - val_loss: 0.4561 - val_acc: 0.8638\n"
          ],
          "name": "stdout"
        },
        {
          "output_type": "stream",
          "text": [
            "Epoch 8/20\n",
            "25000/25000 [==============================] - 3s 123us/step - loss: 0.3262 - acc: 0.9556 - val_loss: 0.4483 - val_acc: 0.8692\n",
            "Epoch 9/20\n",
            "25000/25000 [==============================] - 3s 125us/step - loss: 0.3100 - acc: 0.9614 - val_loss: 0.4789 - val_acc: 0.8598\n",
            "Epoch 10/20\n",
            "25000/25000 [==============================] - 3s 124us/step - loss: 0.2958 - acc: 0.9658 - val_loss: 0.4806 - val_acc: 0.8608\n",
            "Epoch 11/20\n",
            "25000/25000 [==============================] - 3s 122us/step - loss: 0.2816 - acc: 0.9684 - val_loss: 0.4775 - val_acc: 0.8621\n",
            "Epoch 12/20\n",
            "25000/25000 [==============================] - 3s 123us/step - loss: 0.2688 - acc: 0.9721 - val_loss: 0.4891 - val_acc: 0.8614\n",
            "Epoch 13/20\n",
            "25000/25000 [==============================] - 3s 124us/step - loss: 0.2565 - acc: 0.9737 - val_loss: 0.5127 - val_acc: 0.8583\n",
            "Epoch 14/20\n",
            "25000/25000 [==============================] - 3s 124us/step - loss: 0.2455 - acc: 0.9757 - val_loss: 0.5442 - val_acc: 0.8563\n",
            "Epoch 15/20\n",
            " 8704/25000 [=========>....................] - ETA: 1s - loss: 0.2317 - acc: 0.9793"
          ],
          "name": "stdout"
        },
        {
          "output_type": "stream",
          "text": [
            "25000/25000 [==============================] - 3s 122us/step - loss: 0.2338 - acc: 0.9780 - val_loss: 0.5048 - val_acc: 0.8619\n",
            "Epoch 16/20\n",
            "25000/25000 [==============================] - 3s 123us/step - loss: 0.2238 - acc: 0.9796 - val_loss: 0.5559 - val_acc: 0.8567\n",
            "Epoch 17/20\n",
            "25000/25000 [==============================] - 3s 122us/step - loss: 0.2149 - acc: 0.9805 - val_loss: 0.5723 - val_acc: 0.8568\n",
            "Epoch 18/20\n",
            "25000/25000 [==============================] - 3s 122us/step - loss: 0.2051 - acc: 0.9822 - val_loss: 0.5758 - val_acc: 0.8574\n",
            "Epoch 19/20\n",
            "25000/25000 [==============================] - 3s 122us/step - loss: 0.1969 - acc: 0.9831 - val_loss: 0.5532 - val_acc: 0.8538\n",
            "Epoch 20/20\n",
            "25000/25000 [==============================] - 3s 123us/step - loss: 0.1893 - acc: 0.9834 - val_loss: 0.6556 - val_acc: 0.8506\n"
          ],
          "name": "stdout"
        }
      ]
    },
    {
      "metadata": {
        "id": "1gbCaIwCRbPK",
        "colab_type": "code",
        "colab": {}
      },
      "cell_type": "code",
      "source": [
        "epochs = range(1, 21)\n",
        "original_val_loss = original_hist.history['val_loss']\n",
        "smaller_model_val_loss = smaller_model_hist.history['val_loss']"
      ],
      "execution_count": 0,
      "outputs": []
    },
    {
      "metadata": {
        "id": "EfzNRWOVRbPV",
        "colab_type": "code",
        "colab": {
          "base_uri": "https://localhost:8080/",
          "height": 361
        },
        "outputId": "3cc834f4-520b-4737-9f6d-c8f2d12aee97"
      },
      "cell_type": "code",
      "source": [
        "import matplotlib.pyplot as plt\n",
        "\n",
        "# b+ is for \"blue cross\"\n",
        "plt.plot(epochs, original_val_loss, 'b+', label='Original model')\n",
        "# \"bo\" is for \"blue dot\"\n",
        "plt.plot(epochs, smaller_model_val_loss, 'bo', label='Smaller model')\n",
        "plt.xlabel('Epochs')\n",
        "plt.ylabel('Validation loss')\n",
        "plt.legend()\n",
        "\n",
        "plt.show()"
      ],
      "execution_count": 26,
      "outputs": [
        {
          "output_type": "display_data",
          "data": {
            "image/png": "[encoded data removed]",
            "text/plain": [
              "<matplotlib.figure.Figure at 0x7fdee4c3b7b8>"
            ]
          },
          "metadata": {
            "tags": []
          }
        }
      ]
    },
    {
      "metadata": {
        "id": "_FWaijHaRbPf",
        "colab_type": "text"
      },
      "cell_type": "markdown",
      "source": [
        "\n",
        "As you can see, the smaller network starts overfitting later than the reference one (after 6 epochs rather than 4) and its performance \n",
        "degrades much more slowly once it starts overfitting.\n",
        "\n",
        "Now, for kicks, let's add to this benchmark a network that has much more capacity, far more than the problem would warrant:"
      ]
    },
    {
      "metadata": {
        "id": "01h36XAbRbPj",
        "colab_type": "code",
        "colab": {}
      },
      "cell_type": "code",
      "source": [
        "bigger_model = models.Sequential()\n",
        "bigger_model.add(layers.Dense(512, activation='relu', input_shape=(10000,)))\n",
        "bigger_model.add(layers.Dense(512, activation='relu'))\n",
        "bigger_model.add(layers.Dense(1, activation='sigmoid'))\n",
        "\n",
        "bigger_model.compile(optimizer='rmsprop',\n",
        "                     loss='binary_crossentropy',\n",
        "                     metrics=['acc'])"
      ],
      "execution_count": 0,
      "outputs": []
    },
    {
      "metadata": {
        "id": "w9oTtiE-RbPr",
        "colab_type": "code",
        "colab": {
          "base_uri": "https://localhost:8080/",
          "height": 734
        },
        "outputId": "cd9c451c-623f-4a40-e6d6-7ba62537afe3"
      },
      "cell_type": "code",
      "source": [
        "bigger_model_hist = bigger_model.fit(x_train, y_train,\n",
        "                                     epochs=20,\n",
        "                                     batch_size=512,\n",
        "                                     validation_data=(x_test, y_test))"
      ],
      "execution_count": 28,
      "outputs": [
        {
          "output_type": "stream",
          "text": [
            "Train on 25000 samples, validate on 25000 samples\n",
            "Epoch 1/20\n",
            "25000/25000 [==============================] - 19s 741us/step - loss: 0.4687 - acc: 0.7924 - val_loss: 0.2836 - val_acc: 0.8881\n",
            "Epoch 2/20\n",
            "25000/25000 [==============================] - 18s 724us/step - loss: 0.2247 - acc: 0.9120 - val_loss: 0.3312 - val_acc: 0.8638\n",
            "Epoch 3/20\n",
            "25000/25000 [==============================] - 18s 723us/step - loss: 0.1392 - acc: 0.9484 - val_loss: 0.3056 - val_acc: 0.8863\n",
            "Epoch 4/20\n",
            "25000/25000 [==============================] - 18s 723us/step - loss: 0.0722 - acc: 0.9790 - val_loss: 0.4091 - val_acc: 0.8839\n",
            "Epoch 5/20\n",
            "20992/25000 [========================>.....] - ETA: 2s - loss: 0.0791 - acc: 0.9848"
          ],
          "name": "stdout"
        },
        {
          "output_type": "stream",
          "text": [
            "25000/25000 [==============================] - 18s 719us/step - loss: 0.0678 - acc: 0.9870 - val_loss: 0.4790 - val_acc: 0.8833\n",
            "Epoch 6/20\n",
            "25000/25000 [==============================] - 18s 720us/step - loss: 0.0628 - acc: 0.9883 - val_loss: 0.4610 - val_acc: 0.8788\n",
            "Epoch 7/20\n",
            "25000/25000 [==============================] - 18s 723us/step - loss: 0.0026 - acc: 0.9998 - val_loss: 0.6112 - val_acc: 0.8814\n",
            "Epoch 8/20\n",
            "25000/25000 [==============================] - 18s 722us/step - loss: 3.0909e-04 - acc: 1.0000 - val_loss: 1.6451 - val_acc: 0.7869\n",
            "Epoch 9/20\n",
            "25000/25000 [==============================] - 18s 724us/step - loss: 0.0786 - acc: 0.9919 - val_loss: 0.7221 - val_acc: 0.8796\n",
            "Epoch 10/20\n",
            " 7680/25000 [========>.....................] - ETA: 8s - loss: 5.0355e-05 - acc: 1.0000"
          ],
          "name": "stdout"
        },
        {
          "output_type": "stream",
          "text": [
            "25000/25000 [==============================] - 18s 724us/step - loss: 4.1736e-05 - acc: 1.0000 - val_loss: 0.7921 - val_acc: 0.8781\n",
            "Epoch 11/20\n",
            "25000/25000 [==============================] - 18s 724us/step - loss: 7.6134e-06 - acc: 1.0000 - val_loss: 0.9011 - val_acc: 0.8774\n",
            "Epoch 12/20\n",
            "25000/25000 [==============================] - 18s 720us/step - loss: 1.1477e-06 - acc: 1.0000 - val_loss: 0.9703 - val_acc: 0.8778\n",
            "Epoch 13/20\n",
            "25000/25000 [==============================] - 18s 722us/step - loss: 2.6722e-07 - acc: 1.0000 - val_loss: 1.0343 - val_acc: 0.8784\n",
            "Epoch 14/20\n",
            "25000/25000 [==============================] - 18s 722us/step - loss: 1.4265e-07 - acc: 1.0000 - val_loss: 1.0692 - val_acc: 0.8782\n",
            "Epoch 15/20\n",
            " 4096/25000 [===>..........................] - ETA: 10s - loss: 1.2198e-07 - acc: 1.0000"
          ],
          "name": "stdout"
        },
        {
          "output_type": "stream",
          "text": [
            "25000/25000 [==============================] - 18s 723us/step - loss: 1.2137e-07 - acc: 1.0000 - val_loss: 1.0856 - val_acc: 0.8781\n",
            "Epoch 16/20\n",
            "25000/25000 [==============================] - 18s 721us/step - loss: 1.1584e-07 - acc: 1.0000 - val_loss: 1.0967 - val_acc: 0.8780\n",
            "Epoch 17/20\n",
            "25000/25000 [==============================] - 18s 724us/step - loss: 1.1348e-07 - acc: 1.0000 - val_loss: 1.1045 - val_acc: 0.8782\n",
            "Epoch 18/20\n",
            "25000/25000 [==============================] - 18s 720us/step - loss: 1.1226e-07 - acc: 1.0000 - val_loss: 1.1091 - val_acc: 0.8782\n",
            "Epoch 19/20\n",
            "25000/25000 [==============================] - 18s 723us/step - loss: 1.1150e-07 - acc: 1.0000 - val_loss: 1.1129 - val_acc: 0.8781\n",
            "Epoch 20/20\n",
            " 3584/25000 [===>..........................] - ETA: 10s - loss: 1.1093e-07 - acc: 1.0000"
          ],
          "name": "stdout"
        },
        {
          "output_type": "stream",
          "text": [
            "25000/25000 [==============================] - 18s 720us/step - loss: 1.1109e-07 - acc: 1.0000 - val_loss: 1.1171 - val_acc: 0.8781\n"
          ],
          "name": "stdout"
        }
      ]
    },
    {
      "metadata": {
        "id": "IdWNdf8xRbP6",
        "colab_type": "text"
      },
      "cell_type": "markdown",
      "source": [
        "Here's how the bigger network fares compared to the reference one. The dots are the validation loss values of the bigger network, and the \n",
        "crosses are the initial network."
      ]
    },
    {
      "metadata": {
        "id": "X-3MlT5sRbP8",
        "colab_type": "code",
        "colab": {
          "base_uri": "https://localhost:8080/",
          "height": 361
        },
        "outputId": "8e77c331-7bc8-4a28-e29c-047b35663407"
      },
      "cell_type": "code",
      "source": [
        "bigger_model_val_loss = bigger_model_hist.history['val_loss']\n",
        "\n",
        "plt.plot(epochs, original_val_loss, 'b+', label='Original model')\n",
        "plt.plot(epochs, bigger_model_val_loss, 'bo', label='Bigger model')\n",
        "plt.xlabel('Epochs')\n",
        "plt.ylabel('Validation loss')\n",
        "plt.legend()\n",
        "\n",
        "plt.show()"
      ],
      "execution_count": 29,
      "outputs": [
        {
          "output_type": "display_data",
          "data": {
            "image/png": "[encoded data removed]",
            "text/plain": [
              "<matplotlib.figure.Figure at 0x7fdef36a7fd0>"
            ]
          },
          "metadata": {
            "tags": []
          }
        }
      ]
    },
    {
      "metadata": {
        "id": "H-r8_8TGRbQQ",
        "colab_type": "text"
      },
      "cell_type": "markdown",
      "source": [
        "\n",
        "The bigger network starts overfitting almost right away, after just one epoch, and overfits much more severely. Its validation loss is also \n",
        "more noisy.\n",
        "\n",
        "Meanwhile, here are the training losses for our two networks:"
      ]
    },
    {
      "metadata": {
        "id": "Oy1iYAvdRbQS",
        "colab_type": "code",
        "colab": {
          "base_uri": "https://localhost:8080/",
          "height": 361
        },
        "outputId": "08e9ee7a-3033-4486-bcc0-95d51eb1e618"
      },
      "cell_type": "code",
      "source": [
        "original_train_loss = original_hist.history['loss']\n",
        "bigger_model_train_loss = bigger_model_hist.history['loss']\n",
        "\n",
        "plt.plot(epochs, original_train_loss, 'b+', label='Original model')\n",
        "plt.plot(epochs, bigger_model_train_loss, 'bo', label='Bigger model')\n",
        "plt.xlabel('Epochs')\n",
        "plt.ylabel('Training loss')\n",
        "plt.legend()\n",
        "\n",
        "plt.show()"
      ],
      "execution_count": 30,
      "outputs": [
        {
          "output_type": "display_data",
          "data": {
            "image/png": "[encoded data removed]",
            "text/plain": [
              "<matplotlib.figure.Figure at 0x7fdef3d8f8d0>"
            ]
          },
          "metadata": {
            "tags": []
          }
        }
      ]
    },
    {
      "metadata": {
        "id": "DBXauPkHRbQk",
        "colab_type": "text"
      },
      "cell_type": "markdown",
      "source": [
        "As you can see, the bigger network gets its training loss near zero very quickly. The more capacity the network has, the quicker it will be \n",
        "able to model the training data (resulting in a low training loss), but the more susceptible it is to overfitting (resulting in a large \n",
        "difference between the training and validation loss)."
      ]
    },
    {
      "metadata": {
        "id": "uJmn6iuVRbQo",
        "colab_type": "text"
      },
      "cell_type": "markdown",
      "source": [
        "## Adding weight regularization\n",
        "\n",
        "\n",
        "You may be familiar with _Occam's Razor_ principle: given two explanations for something, the explanation most likely to be correct is the \n",
        "\"simplest\" one, the one that makes the least amount of assumptions. This also applies to the models learned by neural networks: given some \n",
        "training data and a network architecture, there are multiple sets of weights values (multiple _models_) that could explain the data, and \n",
        "simpler models are less likely to overfit than complex ones.\n",
        "\n",
        "A \"simple model\" in this context is a model where the distribution of parameter values has less entropy (or a model with fewer \n",
        "parameters altogether, as we saw in the section above). Thus a common way to mitigate overfitting is to put constraints on the complexity \n",
        "of a network by forcing its weights to only take small values, which makes the distribution of weight values more \"regular\". This is called \n",
        "\"weight regularization\", and it is done by adding to the loss function of the network a _cost_ associated with having large weights. This \n",
        "cost comes in two flavors:\n",
        "\n",
        "* L1 regularization, where the cost added is proportional to the _absolute value of the weights coefficients_ (i.e. to what is called the \n",
        "\"L1 norm\" of the weights).\n",
        "* L2 regularization, where the cost added is proportional to the _square of the value of the weights coefficients_ (i.e. to what is called \n",
        "the \"L2 norm\" of the weights). L2 regularization is also called _weight decay_ in the context of neural networks. Don't let the different \n",
        "name confuse you: weight decay is mathematically the exact same as L2 regularization.\n",
        "\n",
        "In Keras, weight regularization is added by passing _weight regularizer instances_ to layers as keyword arguments. Let's add L2 weight \n",
        "regularization to our movie review classification network:"
      ]
    },
    {
      "metadata": {
        "id": "kB1lu4iqRbQr",
        "colab_type": "code",
        "colab": {}
      },
      "cell_type": "code",
      "source": [
        "from keras import regularizers\n",
        "\n",
        "l2_model = models.Sequential()\n",
        "l2_model.add(layers.Dense(16, kernel_regularizer=regularizers.l2(0.001),\n",
        "                          activation='relu', input_shape=(10000,)))\n",
        "l2_model.add(layers.Dense(16, kernel_regularizer=regularizers.l2(0.001),\n",
        "                          activation='relu'))\n",
        "l2_model.add(layers.Dense(1, activation='sigmoid'))"
      ],
      "execution_count": 0,
      "outputs": []
    },
    {
      "metadata": {
        "id": "HRRDyA8KRbQ0",
        "colab_type": "code",
        "colab": {}
      },
      "cell_type": "code",
      "source": [
        "l2_model.compile(optimizer='rmsprop',\n",
        "                 loss='binary_crossentropy',\n",
        "                 metrics=['acc'])"
      ],
      "execution_count": 0,
      "outputs": []
    },
    {
      "metadata": {
        "id": "dvTWhB59RbRA",
        "colab_type": "text"
      },
      "cell_type": "markdown",
      "source": [
        "`l2(0.001)` means that every coefficient in the weight matrix of the layer will add `0.001 * weight_coefficient_value` to the total loss of \n",
        "the network. Note that because this penalty is _only added at training time_, the loss for this network will be much higher at training \n",
        "than at test time.\n",
        "\n",
        "Here's the impact of our L2 regularization penalty:"
      ]
    },
    {
      "metadata": {
        "id": "y0iPHaKGRbRE",
        "colab_type": "code",
        "colab": {
          "base_uri": "https://localhost:8080/",
          "height": 734
        },
        "outputId": "3a081f2f-1a20-4f21-847a-f45c78faad48"
      },
      "cell_type": "code",
      "source": [
        "l2_model_hist = l2_model.fit(x_train, y_train,\n",
        "                             epochs=20,\n",
        "                             batch_size=512,\n",
        "                             validation_data=(x_test, y_test))"
      ],
      "execution_count": 33,
      "outputs": [
        {
          "output_type": "stream",
          "text": [
            "Train on 25000 samples, validate on 25000 samples\n",
            "Epoch 1/20\n",
            "25000/25000 [==============================] - 4s 150us/step - loss: 0.4867 - acc: 0.8162 - val_loss: 0.3878 - val_acc: 0.8669\n",
            "Epoch 2/20\n",
            "25000/25000 [==============================] - 3s 132us/step - loss: 0.3095 - acc: 0.9059 - val_loss: 0.3303 - val_acc: 0.8890\n",
            "Epoch 3/20\n",
            "25000/25000 [==============================] - 3s 131us/step - loss: 0.2651 - acc: 0.9205 - val_loss: 0.3295 - val_acc: 0.8867\n",
            "Epoch 4/20\n",
            "25000/25000 [==============================] - 3s 131us/step - loss: 0.2452 - acc: 0.9293 - val_loss: 0.3401 - val_acc: 0.8822\n",
            "Epoch 5/20\n",
            "25000/25000 [==============================] - 3s 131us/step - loss: 0.2314 - acc: 0.9350 - val_loss: 0.3811 - val_acc: 0.8680\n",
            "Epoch 6/20\n",
            "25000/25000 [==============================] - 3s 131us/step - loss: 0.2230 - acc: 0.9388 - val_loss: 0.3654 - val_acc: 0.8756\n",
            "Epoch 7/20\n",
            "24064/25000 [===========================>..] - ETA: 0s - loss: 0.2150 - acc: 0.9425"
          ],
          "name": "stdout"
        },
        {
          "output_type": "stream",
          "text": [
            "25000/25000 [==============================] - 3s 132us/step - loss: 0.2163 - acc: 0.9414 - val_loss: 0.3746 - val_acc: 0.8739\n",
            "Epoch 8/20\n",
            "25000/25000 [==============================] - 3s 130us/step - loss: 0.2100 - acc: 0.9448 - val_loss: 0.3732 - val_acc: 0.8756\n",
            "Epoch 9/20\n",
            "25000/25000 [==============================] - 3s 132us/step - loss: 0.2040 - acc: 0.9466 - val_loss: 0.3758 - val_acc: 0.8751\n",
            "Epoch 10/20\n",
            "25000/25000 [==============================] - 3s 132us/step - loss: 0.2005 - acc: 0.9502 - val_loss: 0.3817 - val_acc: 0.8747\n",
            "Epoch 11/20\n",
            "25000/25000 [==============================] - 3s 130us/step - loss: 0.1949 - acc: 0.9491 - val_loss: 0.3829 - val_acc: 0.8762\n",
            "Epoch 12/20\n",
            "25000/25000 [==============================] - 3s 131us/step - loss: 0.1921 - acc: 0.9517 - val_loss: 0.3935 - val_acc: 0.8743\n",
            "Epoch 13/20\n",
            "25000/25000 [==============================] - 3s 132us/step - loss: 0.1883 - acc: 0.9534 - val_loss: 0.3953 - val_acc: 0.8734\n",
            "Epoch 14/20\n",
            "10752/25000 [===========>..................] - ETA: 1s - loss: 0.1745 - acc: 0.9606"
          ],
          "name": "stdout"
        },
        {
          "output_type": "stream",
          "text": [
            "25000/25000 [==============================] - 3s 131us/step - loss: 0.1824 - acc: 0.9565 - val_loss: 0.4373 - val_acc: 0.8627\n",
            "Epoch 15/20\n",
            "25000/25000 [==============================] - 3s 131us/step - loss: 0.1826 - acc: 0.9569 - val_loss: 0.4468 - val_acc: 0.8602\n",
            "Epoch 16/20\n",
            "25000/25000 [==============================] - 3s 133us/step - loss: 0.1767 - acc: 0.9588 - val_loss: 0.4516 - val_acc: 0.8627\n",
            "Epoch 17/20\n",
            "25000/25000 [==============================] - 3s 132us/step - loss: 0.1736 - acc: 0.9602 - val_loss: 0.4187 - val_acc: 0.8708\n",
            "Epoch 18/20\n",
            "25000/25000 [==============================] - 3s 132us/step - loss: 0.1713 - acc: 0.9615 - val_loss: 0.4366 - val_acc: 0.8672\n",
            "Epoch 19/20\n",
            "25000/25000 [==============================] - 3s 132us/step - loss: 0.1669 - acc: 0.9648 - val_loss: 0.4460 - val_acc: 0.8649\n",
            "Epoch 20/20\n",
            "25000/25000 [==============================] - 3s 131us/step - loss: 0.1621 - acc: 0.9661 - val_loss: 0.4362 - val_acc: 0.8697\n"
          ],
          "name": "stdout"
        }
      ]
    },
    {
      "metadata": {
        "id": "jcjpEpdaRbRV",
        "colab_type": "code",
        "colab": {
          "base_uri": "https://localhost:8080/",
          "height": 361
        },
        "outputId": "f605fc9c-b614-4674-a03e-1e0d183b5b1b"
      },
      "cell_type": "code",
      "source": [
        "l2_model_val_loss = l2_model_hist.history['val_loss']\n",
        "\n",
        "plt.plot(epochs, original_val_loss, 'b+', label='Original model')\n",
        "plt.plot(epochs, l2_model_val_loss, 'bo', label='L2-regularized model')\n",
        "plt.xlabel('Epochs')\n",
        "plt.ylabel('Validation loss')\n",
        "plt.legend()\n",
        "\n",
        "plt.show()"
      ],
      "execution_count": 34,
      "outputs": [
        {
          "output_type": "display_data",
          "data": {
            "image/png": "[encoded data removed]",
            "text/plain": [
              "<matplotlib.figure.Figure at 0x7fdeeae25fd0>"
            ]
          },
          "metadata": {
            "tags": []
          }
        }
      ]
    },
    {
      "metadata": {
        "id": "Bs96PseQRbRh",
        "colab_type": "text"
      },
      "cell_type": "markdown",
      "source": [
        "\n",
        "\n",
        "As you can see, the model with L2 regularization (dots) has become much more resistant to overfitting than the reference model (crosses), \n",
        "even though both models have the same number of parameters.\n",
        "\n",
        "As alternatives to L2 regularization, you could use one of the following Keras weight regularizers:"
      ]
    },
    {
      "metadata": {
        "id": "iNfQNbxLRbRj",
        "colab_type": "code",
        "colab": {
          "base_uri": "https://localhost:8080/",
          "height": 34
        },
        "collapsed": true,
        "outputId": "de244373-ebe7-4bd1-c6d2-c3d1f12b6c72"
      },
      "cell_type": "code",
      "source": [
        "from keras import regularizers\n",
        "\n",
        "# L1 regularization\n",
        "regularizers.l1(0.001)\n",
        "\n",
        "# L1 and L2 regularization at the same time\n",
        "regularizers.l1_l2(l1=0.001, l2=0.001)"
      ],
      "execution_count": 35,
      "outputs": [
        {
          "output_type": "execute_result",
          "data": {
            "text/plain": [
              "<keras.regularizers.L1L2 at 0x7fdeeae25da0>"
            ]
          },
          "metadata": {
            "tags": []
          },
          "execution_count": 35
        }
      ]
    },
    {
      "metadata": {
        "id": "q1HlN7mURbRv",
        "colab_type": "text"
      },
      "cell_type": "markdown",
      "source": [
        "## Adding dropout\n",
        "\n",
        "\n",
        "Dropout is one of the most effective and most commonly used regularization techniques for neural networks, developed by Hinton and his \n",
        "students at the University of Toronto. Dropout, applied to a layer, consists of randomly \"dropping out\" (i.e. setting to zero) a number of \n",
        "output features of the layer during training. Let's say a given layer would normally have returned a vector `[0.2, 0.5, 1.3, 0.8, 1.1]` for a \n",
        "given input sample during training; after applying dropout, this vector will have a few zero entries distributed at random, e.g. `[0, 0.5, \n",
        "1.3, 0, 1.1]`. The \"dropout rate\" is the fraction of the features that are being zeroed-out; it is usually set between 0.2 and 0.5. At test \n",
        "time, no units are dropped out, and instead the layer's output values are scaled down by a factor equal to the dropout rate, so as to \n",
        "balance for the fact that more units are active than at training time.\n",
        "\n",
        "Consider a Numpy matrix containing the output of a layer, `layer_output`, of shape `(batch_size, features)`. At training time, we would be \n",
        "zero-ing out at random a fraction of the values in the matrix:"
      ]
    },
    {
      "metadata": {
        "id": "6_JZZl7tRbRx",
        "colab_type": "code",
        "colab": {
          "base_uri": "https://localhost:8080/",
          "height": 163
        },
        "collapsed": true,
        "outputId": "f8906422-23c3-403f-a11e-2a398bf51f0b"
      },
      "cell_type": "code",
      "source": [
        "# At training time: we drop out 50% of the units in the output\n",
        "layer_output *= np.randint(0, high=2, size=layer_output.shape)"
      ],
      "execution_count": 36,
      "outputs": [
        {
          "output_type": "error",
          "ename": "NameError",
          "evalue": "ignored",
          "traceback": [
            "\u001b[0;31m---------------------------------------------------------------------------\u001b[0m",
            "\u001b[0;31mNameError\u001b[0m                                 Traceback (most recent call last)",
            "\u001b[0;32m<ipython-input-36-17e51ff1abf7>\u001b[0m in \u001b[0;36m<module>\u001b[0;34m()\u001b[0m\n\u001b[0;32m----> 1\u001b[0;31m \u001b[0mlayer_output\u001b[0m \u001b[0;34m*=\u001b[0m \u001b[0mnp\u001b[0m\u001b[0;34m.\u001b[0m\u001b[0mrandint\u001b[0m\u001b[0;34m(\u001b[0m\u001b[0;36m0\u001b[0m\u001b[0;34m,\u001b[0m \u001b[0mhigh\u001b[0m\u001b[0;34m=\u001b[0m\u001b[0;36m2\u001b[0m\u001b[0;34m,\u001b[0m \u001b[0msize\u001b[0m\u001b[0;34m=\u001b[0m\u001b[0mlayer_output\u001b[0m\u001b[0;34m.\u001b[0m\u001b[0mshape\u001b[0m\u001b[0;34m)\u001b[0m\u001b[0;34m\u001b[0m\u001b[0m\n\u001b[0m",
            "\u001b[0;31mNameError\u001b[0m: name 'layer_output' is not defined"
          ]
        }
      ]
    },
    {
      "metadata": {
        "id": "EDkbFDuyRbR8",
        "colab_type": "text"
      },
      "cell_type": "markdown",
      "source": [
        "\n",
        "At test time, we would be scaling the output down by the dropout rate. Here we scale by 0.5 (because we were previous dropping half the \n",
        "units):"
      ]
    },
    {
      "metadata": {
        "id": "f4qM5U0SRbR9",
        "colab_type": "code",
        "colab": {}
      },
      "cell_type": "code",
      "source": [
        "# At test time:\n",
        "layer_output *= 0.5"
      ],
      "execution_count": 0,
      "outputs": []
    },
    {
      "metadata": {
        "id": "vlRkuKm9RbSF",
        "colab_type": "text"
      },
      "cell_type": "markdown",
      "source": [
        "\n",
        "Note that this process can be implemented by doing both operations at training time and leaving the output unchanged at test time, which is \n",
        "often the way it is implemented in practice:"
      ]
    },
    {
      "metadata": {
        "id": "9YXnTqGaRbSG",
        "colab_type": "code",
        "colab": {}
      },
      "cell_type": "code",
      "source": [
        "# At training time:\n",
        "layer_output *= np.randint(0, high=2, size=layer_output.shape)\n",
        "# Note that we are scaling *up* rather scaling *down* in this case\n",
        "layer_output /= 0.5"
      ],
      "execution_count": 0,
      "outputs": []
    },
    {
      "metadata": {
        "id": "4Cl-JpUJRbSO",
        "colab_type": "text"
      },
      "cell_type": "markdown",
      "source": [
        "\n",
        "This technique may seem strange and arbitrary. Why would this help reduce overfitting? Geoff Hinton has said that he was inspired, among \n",
        "other things, by a fraud prevention mechanism used by banks -- in his own words: _\"I went to my bank. The tellers kept changing and I asked \n",
        "one of them why. He said he didn’t know but they got moved around a lot. I figured it must be because it would require cooperation \n",
        "between employees to successfully defraud the bank. This made me realize that randomly removing a different subset of neurons on each \n",
        "example would prevent conspiracies and thus reduce overfitting\"_.\n",
        "\n",
        "The core idea is that introducing noise in the output values of a layer can break up happenstance patterns that are not significant (what \n",
        "Hinton refers to as \"conspiracies\"), which the network would start memorizing if no noise was present. \n",
        "\n",
        "In Keras you can introduce dropout in a network via the `Dropout` layer, which gets applied to the output of layer right before it, e.g.:"
      ]
    },
    {
      "metadata": {
        "id": "LKXS2k8MRbSS",
        "colab_type": "code",
        "colab": {}
      },
      "cell_type": "code",
      "source": [
        "model.add(layers.Dropout(0.5))"
      ],
      "execution_count": 0,
      "outputs": []
    },
    {
      "metadata": {
        "id": "X29hg6HnRbSZ",
        "colab_type": "text"
      },
      "cell_type": "markdown",
      "source": [
        "Let's add two `Dropout` layers in our IMDB network to see how well they do at reducing overfitting:"
      ]
    },
    {
      "metadata": {
        "id": "qGCTUyplRbSb",
        "colab_type": "code",
        "colab": {}
      },
      "cell_type": "code",
      "source": [
        "dpt_model = models.Sequential()\n",
        "dpt_model.add(layers.Dense(16, activation='relu', input_shape=(10000,)))\n",
        "dpt_model.add(layers.Dropout(0.5))\n",
        "dpt_model.add(layers.Dense(16, activation='relu'))\n",
        "dpt_model.add(layers.Dropout(0.5))\n",
        "dpt_model.add(layers.Dense(1, activation='sigmoid'))\n",
        "\n",
        "dpt_model.compile(optimizer='rmsprop',\n",
        "                  loss='binary_crossentropy',\n",
        "                  metrics=['acc'])"
      ],
      "execution_count": 0,
      "outputs": []
    },
    {
      "metadata": {
        "id": "Wv2D6q1-RbSh",
        "colab_type": "code",
        "colab": {
          "base_uri": "https://localhost:8080/",
          "height": 734
        },
        "outputId": "02128e44-4138-4db5-cd48-e81ccb3b3872"
      },
      "cell_type": "code",
      "source": [
        "dpt_model_hist = dpt_model.fit(x_train, y_train,\n",
        "                               epochs=20,\n",
        "                               batch_size=512,\n",
        "                               validation_data=(x_test, y_test))"
      ],
      "execution_count": 38,
      "outputs": [
        {
          "output_type": "stream",
          "text": [
            "Train on 25000 samples, validate on 25000 samples\n",
            "Epoch 1/20\n",
            "25000/25000 [==============================] - 5s 187us/step - loss: 0.5900 - acc: 0.6845 - val_loss: 0.4306 - val_acc: 0.8618\n",
            "Epoch 2/20\n",
            "25000/25000 [==============================] - 3s 130us/step - loss: 0.4352 - acc: 0.8182 - val_loss: 0.3484 - val_acc: 0.8700\n",
            "Epoch 3/20\n",
            "25000/25000 [==============================] - 3s 130us/step - loss: 0.3475 - acc: 0.8706 - val_loss: 0.2915 - val_acc: 0.8864\n",
            "Epoch 4/20\n",
            "25000/25000 [==============================] - 3s 130us/step - loss: 0.2893 - acc: 0.8982 - val_loss: 0.2762 - val_acc: 0.8884\n",
            "Epoch 5/20\n",
            "25000/25000 [==============================] - 3s 130us/step - loss: 0.2553 - acc: 0.9128 - val_loss: 0.2801 - val_acc: 0.8880\n",
            "Epoch 6/20\n",
            "25000/25000 [==============================] - 3s 131us/step - loss: 0.2241 - acc: 0.9256 - val_loss: 0.2885 - val_acc: 0.8860\n",
            "Epoch 7/20\n",
            "19456/25000 [======================>.......] - ETA: 0s - loss: 0.1994 - acc: 0.9341"
          ],
          "name": "stdout"
        },
        {
          "output_type": "stream",
          "text": [
            "25000/25000 [==============================] - 3s 131us/step - loss: 0.1999 - acc: 0.9342 - val_loss: 0.3182 - val_acc: 0.8862\n",
            "Epoch 8/20\n",
            "25000/25000 [==============================] - 3s 131us/step - loss: 0.1807 - acc: 0.9414 - val_loss: 0.3279 - val_acc: 0.8848\n",
            "Epoch 9/20\n",
            "25000/25000 [==============================] - 3s 132us/step - loss: 0.1751 - acc: 0.9436 - val_loss: 0.3519 - val_acc: 0.8839\n",
            "Epoch 10/20\n",
            "25000/25000 [==============================] - 3s 132us/step - loss: 0.1560 - acc: 0.9473 - val_loss: 0.3707 - val_acc: 0.8828\n",
            "Epoch 11/20\n",
            "25000/25000 [==============================] - 3s 133us/step - loss: 0.1485 - acc: 0.9505 - val_loss: 0.3895 - val_acc: 0.8811\n",
            "Epoch 12/20\n",
            "25000/25000 [==============================] - 3s 133us/step - loss: 0.1414 - acc: 0.9557 - val_loss: 0.4416 - val_acc: 0.8741\n",
            "Epoch 13/20\n",
            "25000/25000 [==============================] - 3s 131us/step - loss: 0.1281 - acc: 0.9580 - val_loss: 0.4448 - val_acc: 0.8786\n",
            "Epoch 14/20\n",
            "11776/25000 [=============>................] - ETA: 1s - loss: 0.1185 - acc: 0.9606"
          ],
          "name": "stdout"
        },
        {
          "output_type": "stream",
          "text": [
            "25000/25000 [==============================] - 3s 130us/step - loss: 0.1242 - acc: 0.9580 - val_loss: 0.4544 - val_acc: 0.8768\n",
            "Epoch 15/20\n",
            "25000/25000 [==============================] - 3s 130us/step - loss: 0.1205 - acc: 0.9606 - val_loss: 0.4800 - val_acc: 0.8720\n",
            "Epoch 16/20\n",
            "25000/25000 [==============================] - 3s 131us/step - loss: 0.1188 - acc: 0.9620 - val_loss: 0.5293 - val_acc: 0.8734\n",
            "Epoch 17/20\n",
            "25000/25000 [==============================] - 3s 130us/step - loss: 0.1133 - acc: 0.9613 - val_loss: 0.5287 - val_acc: 0.8747\n",
            "Epoch 18/20\n",
            "25000/25000 [==============================] - 3s 130us/step - loss: 0.1151 - acc: 0.9632 - val_loss: 0.5402 - val_acc: 0.8739\n",
            "Epoch 19/20\n",
            "25000/25000 [==============================] - 3s 132us/step - loss: 0.1024 - acc: 0.9654 - val_loss: 0.5707 - val_acc: 0.8732\n",
            "Epoch 20/20\n",
            "25000/25000 [==============================] - 3s 131us/step - loss: 0.1073 - acc: 0.9666 - val_loss: 0.5796 - val_acc: 0.8723\n"
          ],
          "name": "stdout"
        }
      ]
    },
    {
      "metadata": {
        "id": "6_UrjMgjRbSq",
        "colab_type": "text"
      },
      "cell_type": "markdown",
      "source": [
        "Let's plot the results:"
      ]
    },
    {
      "metadata": {
        "id": "n3hKAQzRRbSr",
        "colab_type": "code",
        "colab": {
          "base_uri": "https://localhost:8080/",
          "height": 361
        },
        "outputId": "604c4f71-dcc6-40d7-e598-e36e756149de"
      },
      "cell_type": "code",
      "source": [
        "dpt_model_val_loss = dpt_model_hist.history['val_loss']\n",
        "\n",
        "plt.plot(epochs, original_val_loss, 'b+', label='Original model')\n",
        "plt.plot(epochs, dpt_model_val_loss, 'bo', label='Dropout-regularized model')\n",
        "plt.xlabel('Epochs')\n",
        "plt.ylabel('Validation loss')\n",
        "plt.legend()\n",
        "\n",
        "plt.show()"
      ],
      "execution_count": 39,
      "outputs": [
        {
          "output_type": "display_data",
          "data": {
            "image/png": "[encoded data removed]",
            "text/plain": [
              "<matplotlib.figure.Figure at 0x7fdef38a7518>"
            ]
          },
          "metadata": {
            "tags": []
          }
        }
      ]
    },
    {
      "metadata": {
        "id": "D1An7yqhRbTP",
        "colab_type": "text"
      },
      "cell_type": "markdown",
      "source": [
        "\n",
        "Again, a clear improvement over the reference network.\n",
        "\n",
        "To recap: here the most common ways to prevent overfitting in neural networks:\n",
        "\n",
        "* Getting more training data.\n",
        "* Reducing the capacity of the network.\n",
        "* Adding weight regularization.\n",
        "* Adding dropout."
      ]
    }
  ]
}